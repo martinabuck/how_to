{
 "cells": [
  {
   "cell_type": "markdown",
   "id": "b5a51f22",
   "metadata": {},
   "source": [
    "# R in Jupyter Notebook and python\n",
    "\n",
    "There are several ways to use R in a Jupyter notebook. One of which is to use r-essentials which allows the creation of R-notebooks. It is also possible to use a few functions of R in a python environment or to create R cells in a jupyter notebook with a ipykernel."
   ]
  },
  {
   "cell_type": "markdown",
   "id": "f1fac9a0",
   "metadata": {},
   "source": [
    "## R-essentials and R Notebooks\n",
    "To create R Notebooks one can use conda, the package manager for Anaconda and install [r-essentials](https://docs.anaconda.com/anaconda/user-guide/tasks/using-r-language/)(this is not available for pip). After installing python and jupyter lab one can create R notebooks as well as python notebooks in jupyter lab. \n",
    "The packages not [contained in R-essentials](https://docs.anaconda.com/anaconda/packages/r-language-pkg-docs/) can be added as [follows](https://newbedev.com/conda-how-to-install-r-packages-that-are-not-available-in-r-essentials). It is the same should the package be not availabe in CRAN and thus also useful if relying on the package rpy2."
   ]
  },
  {
   "cell_type": "markdown",
   "id": "a02ed4ea",
   "metadata": {},
   "source": [
    "## Use R functions in python\n",
    "To use R functions in a python code one can use [rpy2](https://rpy2.github.io/doc/latest/html/index.html)."
   ]
  },
  {
   "cell_type": "code",
   "execution_count": 1,
   "id": "5e30c281",
   "metadata": {},
   "outputs": [],
   "source": [
    "# import libraries\n",
    "import pandas as pd\n",
    "import rpy2.robjects as ro                     \n",
    "from rpy2.robjects.packages import importr\n",
    "from rpy2.robjects import pandas2ri\n",
    "from rpy2.robjects.conversion import localconverter\n"
   ]
  },
  {
   "cell_type": "code",
   "execution_count": 2,
   "id": "7ff40037",
   "metadata": {},
   "outputs": [
    {
     "data": {
      "text/plain": [
       "pandas.core.frame.DataFrame"
      ]
     },
     "execution_count": 2,
     "metadata": {},
     "output_type": "execute_result"
    }
   ],
   "source": [
    "# create a pandas df\n",
    "p_df = pd.DataFrame({\n",
    "    'x': [0, 1, 2, 4],\n",
    "    'y': [0, 2, 4, 6]\n",
    "})\n",
    "type(p_df)\n"
   ]
  },
  {
   "cell_type": "code",
   "execution_count": 3,
   "id": "27b8ed4e",
   "metadata": {},
   "outputs": [
    {
     "name": "stdout",
     "output_type": "stream",
     "text": [
      "       x              y      \n",
      " Min.   :0.00   Min.   :0.0  \n",
      " 1st Qu.:0.75   1st Qu.:1.5  \n",
      " Median :1.50   Median :3.0  \n",
      " Mean   :1.75   Mean   :3.0  \n",
      " 3rd Qu.:2.50   3rd Qu.:4.5  \n",
      " Max.   :4.00   Max.   :6.0  \n",
      "\n"
     ]
    }
   ],
   "source": [
    "base = importr('base') # automatical conversion for calling F functions if base is called\n",
    "with localconverter(ro.default_converter + pandas2ri.converter):\n",
    "  df_summary = base.summary(p_df)\n",
    "print(df_summary)\n"
   ]
  },
  {
   "cell_type": "code",
   "execution_count": 4,
   "id": "8e0fa3b1",
   "metadata": {},
   "outputs": [
    {
     "data": {
      "text/plain": [
       "rpy2.robjects.vectors.DataFrame"
      ]
     },
     "execution_count": 4,
     "metadata": {},
     "output_type": "execute_result"
    }
   ],
   "source": [
    "# creating an R df in a python environment\n",
    "r_df = ro.DataFrame({'x': ro.IntVector([1,2,3]),\n",
    "                     'y': ro.IntVector([2,4,6])})\n",
    "\n",
    "type(r_df)"
   ]
  },
  {
   "cell_type": "markdown",
   "id": "0ac09ad3",
   "metadata": {},
   "source": [
    "### Saving and conversion of R dataframes and panda dataframes\n",
    "\n",
    "There are several options:\n",
    "1. One can convert them by [saving them as a csv](https://rpy2.github.io/doc/v3.2.x/html/vector.html#rpy2.robjects.vectors.DataFrame.to_csvfile). If this is too slow one could use [feather](https://github.com/wesm/feather).\n",
    "2. There is a [local converter](https://rpy2.github.io/doc/v3.2.x/html/generated_rst/pandas.html) in the rpy package\n",
    "3. via cell magic"
   ]
  },
  {
   "cell_type": "markdown",
   "id": "dee34f08",
   "metadata": {},
   "source": [
    "#### 1. Saving as a csv"
   ]
  },
  {
   "cell_type": "code",
   "execution_count": 5,
   "id": "7bec6b7e",
   "metadata": {},
   "outputs": [],
   "source": [
    "# saving an panda dataframe as csv\n",
    "p_df.to_csv(\"p_df.csv\", index = False)"
   ]
  },
  {
   "cell_type": "code",
   "execution_count": 6,
   "id": "d8a56ff0",
   "metadata": {},
   "outputs": [
    {
     "name": "stdout",
     "output_type": "stream",
     "text": [
      "r_df is of the type <class 'rpy2.robjects.vectors.DataFrame'>\n"
     ]
    }
   ],
   "source": [
    "# reading in a csv as r dataframe\n",
    "r_df.from_csvfile(\"p_df.csv\")\n",
    "print(f'r_df is of the type {type(r_df)}')"
   ]
  },
  {
   "cell_type": "code",
   "execution_count": 7,
   "id": "5d231892",
   "metadata": {},
   "outputs": [
    {
     "name": "stdout",
     "output_type": "stream",
     "text": [
      "p_df is of the type <class 'pandas.core.frame.DataFrame'>\n"
     ]
    }
   ],
   "source": [
    "# reading in a csv as panda dataframe\n",
    "p_df = pd.read_csv(\"p_df.csv\")\n",
    "print(f'p_df is of the type {type(p_df)}')"
   ]
  },
  {
   "cell_type": "code",
   "execution_count": 8,
   "id": "8db7db55",
   "metadata": {},
   "outputs": [
    {
     "data": {
      "text/plain": [
       "<rpy2.rinterface_lib.sexp.NULLType object at 0x7f08734c7c80> [RTYPES.NILSXP]"
      ]
     },
     "execution_count": 8,
     "metadata": {},
     "output_type": "execute_result"
    }
   ],
   "source": [
    "# saving an r dataframe as csv\n",
    "r_df.to_csvfile(\"r_df.csv\")"
   ]
  },
  {
   "cell_type": "markdown",
   "id": "1010e686",
   "metadata": {},
   "source": [
    "#### 2. Local converter "
   ]
  },
  {
   "cell_type": "code",
   "execution_count": 9,
   "id": "8df7032d",
   "metadata": {},
   "outputs": [
    {
     "name": "stdout",
     "output_type": "stream",
     "text": [
      "r_from_pd is of the type <class 'rpy2.robjects.vectors.DataFrame'>\n"
     ]
    },
    {
     "data": {
      "text/html": [
       "\n",
       "        <span>StrVector with 3 elements.</span>\n",
       "        <table>\n",
       "        <tbody>\n",
       "          <tr>\n",
       "          \n",
       "            <td>\n",
       "            '1'\n",
       "            </td>\n",
       "          \n",
       "            <td>\n",
       "            'character'\n",
       "            </td>\n",
       "          \n",
       "            <td>\n",
       "            'character'\n",
       "            </td>\n",
       "          \n",
       "          </tr>\n",
       "        </tbody>\n",
       "        </table>\n",
       "        "
      ],
      "text/plain": [
       "<rpy2.robjects.vectors.StrVector object at 0x7f1cb04bed40> [RTYPES.STRSXP]\n",
       "R classes: ('summaryDefault', 'table')\n",
       "['1', 'character', 'character']"
      ]
     },
     "execution_count": 9,
     "metadata": {},
     "output_type": "execute_result"
    }
   ],
   "source": [
    "# create R dataframe from panda dataframe\n",
    "with localconverter(ro.default_converter + pandas2ri.converter):\n",
    "  r_from_pd = ro.conversion.py2rpy(p_df)\n",
    "print(f'r_from_pd is of the type {type(r_from_pd)}')\n",
    "r_from_pd\n",
    "base.summary(\"r_from_pd\")"
   ]
  },
  {
   "cell_type": "code",
   "execution_count": 10,
   "id": "2f52edb8",
   "metadata": {},
   "outputs": [
    {
     "name": "stdout",
     "output_type": "stream",
     "text": [
      "pd_from_r is of the type <class 'pandas.core.frame.DataFrame'>\n"
     ]
    },
    {
     "data": {
      "text/html": [
       "<div>\n",
       "<style scoped>\n",
       "    .dataframe tbody tr th:only-of-type {\n",
       "        vertical-align: middle;\n",
       "    }\n",
       "\n",
       "    .dataframe tbody tr th {\n",
       "        vertical-align: top;\n",
       "    }\n",
       "\n",
       "    .dataframe thead th {\n",
       "        text-align: right;\n",
       "    }\n",
       "</style>\n",
       "<table border=\"1\" class=\"dataframe\">\n",
       "  <thead>\n",
       "    <tr style=\"text-align: right;\">\n",
       "      <th></th>\n",
       "      <th>x</th>\n",
       "      <th>y</th>\n",
       "    </tr>\n",
       "  </thead>\n",
       "  <tbody>\n",
       "    <tr>\n",
       "      <th>1</th>\n",
       "      <td>1</td>\n",
       "      <td>2</td>\n",
       "    </tr>\n",
       "    <tr>\n",
       "      <th>2</th>\n",
       "      <td>2</td>\n",
       "      <td>4</td>\n",
       "    </tr>\n",
       "    <tr>\n",
       "      <th>3</th>\n",
       "      <td>3</td>\n",
       "      <td>6</td>\n",
       "    </tr>\n",
       "  </tbody>\n",
       "</table>\n",
       "</div>"
      ],
      "text/plain": [
       "   x  y\n",
       "1  1  2\n",
       "2  2  4\n",
       "3  3  6"
      ]
     },
     "execution_count": 10,
     "metadata": {},
     "output_type": "execute_result"
    }
   ],
   "source": [
    "# create pandas dataframe from R dataframe\n",
    "\n",
    "with localconverter(ro.default_converter + pandas2ri.converter):\n",
    "  pd_from_r = ro.conversion.rpy2py(r_df)\n",
    "print(f'pd_from_r is of the type {type(pd_from_r)}')\n",
    "pd_from_r"
   ]
  },
  {
   "cell_type": "markdown",
   "id": "cfe027e6",
   "metadata": {},
   "source": [
    "## Create R cells in a jupyter notebook \n",
    "To create R cells in a jupyter [python notebook](https://rpy2.github.io/doc/latest/html/generated_rst/notebooks.html) one can again use the rpy2 package and do the following:"
   ]
  },
  {
   "cell_type": "code",
   "execution_count": 11,
   "id": "31c9b29c",
   "metadata": {},
   "outputs": [],
   "source": [
    "# enables the use of R code in a cell after writing \"%%R making it an cell for R code \n",
    "%load_ext rpy2.ipython "
   ]
  },
  {
   "cell_type": "code",
   "execution_count": 12,
   "id": "65f3ad9f",
   "metadata": {},
   "outputs": [
    {
     "name": "stdout",
     "output_type": "stream",
     "text": [
      "[1] \"Hello World!\"\n",
      "[1] FALSE\n"
     ]
    }
   ],
   "source": [
    "%%R\n",
    "myString <- \"Hello World!\"\n",
    "print (myString)\n",
    "\n",
    "exists(\"r_df\")                  # A converted dataframe isn't found in R-cells."
   ]
  },
  {
   "cell_type": "markdown",
   "id": "ab520aa7",
   "metadata": {},
   "source": [
    "However, already created variables are not seen by this R-cell unless they are imported imported in the main namespace (GlobalEnv):"
   ]
  },
  {
   "cell_type": "code",
   "execution_count": 13,
   "id": "58a0d8bd",
   "metadata": {},
   "outputs": [
    {
     "name": "stdout",
     "output_type": "stream",
     "text": [
      "   Length     Class      Mode \n",
      "        1 character character \n"
     ]
    }
   ],
   "source": [
    "%%R -i r_df\n",
    "summary(\"r_df\")"
   ]
  },
  {
   "cell_type": "code",
   "execution_count": 14,
   "id": "f9780306",
   "metadata": {},
   "outputs": [
    {
     "name": "stdout",
     "output_type": "stream",
     "text": [
      "   Length     Class      Mode \n",
      "        1 character character \n"
     ]
    }
   ],
   "source": [
    "%%R -i p_df\n",
    "summary(\"p_df\")"
   ]
  },
  {
   "cell_type": "code",
   "execution_count": 15,
   "id": "403bbc19",
   "metadata": {},
   "outputs": [
    {
     "data": {
      "image/png": "[encoded data removed]"
     },
     "metadata": {},
     "output_type": "display_data"
    }
   ],
   "source": [
    "%%R -i r_from_pd -w 3 -h 3 --units in -r 150\n",
    "# width: 3 in, hight: 3 in, resolution: 150 dpi\n",
    "library(ggplot2)\n",
    "ggplot(r_from_pd, aes(x=x, y=y)) + geom_line()\n"
   ]
  },
  {
   "cell_type": "markdown",
   "id": "55253ba3",
   "metadata": {},
   "source": [
    "## Export from magic cells\n",
    "To transfer r_df into normal cels it can be either saved as a csv file and imported again or exported and then converted into a pandas dataframe. "
   ]
  },
  {
   "cell_type": "markdown",
   "id": "969294f3",
   "metadata": {},
   "source": [
    "#### Save as csv"
   ]
  },
  {
   "cell_type": "code",
   "execution_count": 16,
   "id": "9507499f",
   "metadata": {},
   "outputs": [],
   "source": [
    "%%R\n",
    "write.csv(r_df,\"r_df_magic.csv\", row.names = FALSE)"
   ]
  },
  {
   "cell_type": "code",
   "execution_count": 17,
   "id": "57deb3c3",
   "metadata": {},
   "outputs": [],
   "source": [
    "r_df.from_csvfile(\"r_df_magic.csv\")\n",
    "p_df = pd.read_csv(\"r_df_magic.csv\")"
   ]
  },
  {
   "cell_type": "markdown",
   "id": "b323e1a5",
   "metadata": {},
   "source": [
    "#### Export directly from R cell with -o"
   ]
  },
  {
   "cell_type": "code",
   "execution_count": 18,
   "id": "1ec7fa09",
   "metadata": {},
   "outputs": [],
   "source": [
    "%%R -o r_df_magic\n",
    "r_df_magic=r_df"
   ]
  },
  {
   "cell_type": "code",
   "execution_count": 19,
   "id": "d64b5b5b",
   "metadata": {},
   "outputs": [
    {
     "data": {
      "text/plain": [
       "pandas.core.frame.DataFrame"
      ]
     },
     "execution_count": 19,
     "metadata": {},
     "output_type": "execute_result"
    }
   ],
   "source": [
    "type(r_df_magic)"
   ]
  },
  {
   "cell_type": "code",
   "execution_count": null,
   "id": "b7b0dc4d",
   "metadata": {},
   "outputs": [],
   "source": []
  }
 ],
 "metadata": {
  "kernelspec": {
   "display_name": "Python 3 (ipykernel)",
   "language": "python",
   "name": "python3"
  },
  "language_info": {
   "codemirror_mode": {
    "name": "ipython",
    "version": 3
   },
   "file_extension": ".py",
   "mimetype": "text/x-python",
   "name": "python",
   "nbconvert_exporter": "python",
   "pygments_lexer": "ipython3",
   "version": "3.8.10"
  }
 },
 "nbformat": 4,
 "nbformat_minor": 5
}
